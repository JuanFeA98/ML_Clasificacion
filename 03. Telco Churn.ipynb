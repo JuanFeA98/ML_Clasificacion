{
 "cells": [
  {
   "cell_type": "markdown",
   "id": "b2e2c245-552c-4fde-9a16-9778d4cb7f5f",
   "metadata": {},
   "source": [
    "<h1 style='text-align:center; font-weight:bolder'>\n",
    "    Modelo de Churn\n",
    "</h1>"
   ]
  },
  {
   "cell_type": "markdown",
   "id": "40401205-f950-482f-b314-cbcc9d0b683d",
   "metadata": {},
   "source": [
    "## **Librerias**"
   ]
  },
  {
   "cell_type": "code",
   "execution_count": null,
   "id": "eb1a1fe2-1e41-40a6-878b-ad7304b9b697",
   "metadata": {},
   "outputs": [
    {
     "ename": "",
     "evalue": "",
     "output_type": "error",
     "traceback": [
      "\u001b[1;31mLa ejecución de celdas con 'Python 3.10.6 64-bit (windows store)' requieren el paquete ipykernel.\n",
      "\u001b[1;31mEjecute el siguiente comando para instalar 'ipykernel' en el entorno de Python. comando \n",
      "\u001b[1;31m: 'c:/Users/jmart/AppData/Local/Microsoft/WindowsApps/python3.10.exe -m pip install ipykernel -U --user --force-reinstall'"
     ]
    }
   ],
   "source": [
    "import pandas as pd\n",
    "import numpy as np\n",
    "import matplotlib.pyplot as plt\n",
    "import seaborn as sns"
   ]
  },
  {
   "cell_type": "code",
   "execution_count": null,
   "id": "15e250e9-c08d-4fee-8f6c-56d27b0a2d55",
   "metadata": {},
   "outputs": [
    {
     "ename": "",
     "evalue": "",
     "output_type": "error",
     "traceback": [
      "\u001b[1;31mLa ejecución de celdas con 'Python 3.10.6 64-bit (windows store)' requieren el paquete ipykernel.\n",
      "\u001b[1;31mEjecute el siguiente comando para instalar 'ipykernel' en el entorno de Python. comando \n",
      "\u001b[1;31m: 'c:/Users/jmart/AppData/Local/Microsoft/WindowsApps/python3.10.exe -m pip install ipykernel -U --user --force-reinstall'"
     ]
    }
   ],
   "source": [
    "pd.options.display.max_columns = False"
   ]
  },
  {
   "cell_type": "markdown",
   "id": "1e93af86-3a96-4e3c-9642-22107133a909",
   "metadata": {},
   "source": [
    "## **Datos**"
   ]
  },
  {
   "cell_type": "code",
   "execution_count": null,
   "id": "48b2de5f-e2c4-462e-b94d-b85b7d8028ea",
   "metadata": {},
   "outputs": [
    {
     "ename": "",
     "evalue": "",
     "output_type": "error",
     "traceback": [
      "\u001b[1;31mLa ejecución de celdas con 'Python 3.10.6 64-bit (windows store)' requieren el paquete ipykernel.\n",
      "\u001b[1;31mEjecute el siguiente comando para instalar 'ipykernel' en el entorno de Python. comando \n",
      "\u001b[1;31m: 'c:/Users/jmart/AppData/Local/Microsoft/WindowsApps/python3.10.exe -m pip install ipykernel -U --user --force-reinstall'"
     ]
    }
   ],
   "source": [
    "df = pd.read_csv('Datos/Crudos/Telco_churn.csv')"
   ]
  },
  {
   "cell_type": "markdown",
   "id": "1d9f40a7-de94-4a78-8573-67276f0f55db",
   "metadata": {},
   "source": [
    "## **EDA**"
   ]
  },
  {
   "cell_type": "code",
   "execution_count": null,
   "id": "bd841e98-f726-456f-a3f6-e97d829698a7",
   "metadata": {},
   "outputs": [
    {
     "ename": "",
     "evalue": "",
     "output_type": "error",
     "traceback": [
      "\u001b[1;31mLa ejecución de celdas con 'Python 3.10.6 64-bit (windows store)' requieren el paquete ipykernel.\n",
      "\u001b[1;31mEjecute el siguiente comando para instalar 'ipykernel' en el entorno de Python. comando \n",
      "\u001b[1;31m: 'c:/Users/jmart/AppData/Local/Microsoft/WindowsApps/python3.10.exe -m pip install ipykernel -U --user --force-reinstall'"
     ]
    }
   ],
   "source": [
    "df.sample()"
   ]
  },
  {
   "cell_type": "code",
   "execution_count": null,
   "id": "365da75c-7b75-4d7d-aaa7-c76b3568ce72",
   "metadata": {},
   "outputs": [
    {
     "ename": "",
     "evalue": "",
     "output_type": "error",
     "traceback": [
      "\u001b[1;31mLa ejecución de celdas con 'Python 3.10.6 64-bit (windows store)' requieren el paquete ipykernel.\n",
      "\u001b[1;31mEjecute el siguiente comando para instalar 'ipykernel' en el entorno de Python. comando \n",
      "\u001b[1;31m: 'c:/Users/jmart/AppData/Local/Microsoft/WindowsApps/python3.10.exe -m pip install ipykernel -U --user --force-reinstall'"
     ]
    }
   ],
   "source": [
    "df.describe()"
   ]
  },
  {
   "cell_type": "code",
   "execution_count": null,
   "id": "afd705c8-8ffe-4d7d-b75e-ae645b84b8b6",
   "metadata": {},
   "outputs": [
    {
     "ename": "",
     "evalue": "",
     "output_type": "error",
     "traceback": [
      "\u001b[1;31mLa ejecución de celdas con 'Python 3.10.6 64-bit (windows store)' requieren el paquete ipykernel.\n",
      "\u001b[1;31mEjecute el siguiente comando para instalar 'ipykernel' en el entorno de Python. comando \n",
      "\u001b[1;31m: 'c:/Users/jmart/AppData/Local/Microsoft/WindowsApps/python3.10.exe -m pip install ipykernel -U --user --force-reinstall'"
     ]
    }
   ],
   "source": [
    "df.info()"
   ]
  },
  {
   "cell_type": "markdown",
   "id": "2e45d89d-5388-4a1a-a81a-04fdd7d9f514",
   "metadata": {},
   "source": [
    "### **Setting churn**"
   ]
  },
  {
   "cell_type": "code",
   "execution_count": null,
   "id": "0689ee5b-330a-4ca0-a7f3-dbae2940472e",
   "metadata": {},
   "outputs": [
    {
     "ename": "",
     "evalue": "",
     "output_type": "error",
     "traceback": [
      "\u001b[1;31mLa ejecución de celdas con 'Python 3.10.6 64-bit (windows store)' requieren el paquete ipykernel.\n",
      "\u001b[1;31mEjecute el siguiente comando para instalar 'ipykernel' en el entorno de Python. comando \n",
      "\u001b[1;31m: 'c:/Users/jmart/AppData/Local/Microsoft/WindowsApps/python3.10.exe -m pip install ipykernel -U --user --force-reinstall'"
     ]
    }
   ],
   "source": [
    "df = pd.merge(df.reset_index(), pd.get_dummies(df['Churn']).reset_index(), how='left', left_on='index', right_on='index')"
   ]
  },
  {
   "cell_type": "code",
   "execution_count": null,
   "id": "ff6754a2-7afc-4293-87bf-4d32c47ac03a",
   "metadata": {},
   "outputs": [
    {
     "ename": "",
     "evalue": "",
     "output_type": "error",
     "traceback": [
      "\u001b[1;31mLa ejecución de celdas con 'Python 3.10.6 64-bit (windows store)' requieren el paquete ipykernel.\n",
      "\u001b[1;31mEjecute el siguiente comando para instalar 'ipykernel' en el entorno de Python. comando \n",
      "\u001b[1;31m: 'c:/Users/jmart/AppData/Local/Microsoft/WindowsApps/python3.10.exe -m pip install ipykernel -U --user --force-reinstall'"
     ]
    }
   ],
   "source": [
    "df.drop(['index', 'Churn', 'No'], axis=1, inplace=True)"
   ]
  },
  {
   "cell_type": "code",
   "execution_count": null,
   "id": "96b19234-ece7-4582-8003-b39ff9760970",
   "metadata": {},
   "outputs": [
    {
     "ename": "",
     "evalue": "",
     "output_type": "error",
     "traceback": [
      "\u001b[1;31mLa ejecución de celdas con 'Python 3.10.6 64-bit (windows store)' requieren el paquete ipykernel.\n",
      "\u001b[1;31mEjecute el siguiente comando para instalar 'ipykernel' en el entorno de Python. comando \n",
      "\u001b[1;31m: 'c:/Users/jmart/AppData/Local/Microsoft/WindowsApps/python3.10.exe -m pip install ipykernel -U --user --force-reinstall'"
     ]
    }
   ],
   "source": [
    "df.rename(columns={'Yes': 'Churn'}, inplace=True)"
   ]
  },
  {
   "cell_type": "code",
   "execution_count": null,
   "id": "a90792b5-1ee7-4c8d-a886-fc8bf5b905ea",
   "metadata": {},
   "outputs": [
    {
     "ename": "",
     "evalue": "",
     "output_type": "error",
     "traceback": [
      "\u001b[1;31mLa ejecución de celdas con 'Python 3.10.6 64-bit (windows store)' requieren el paquete ipykernel.\n",
      "\u001b[1;31mEjecute el siguiente comando para instalar 'ipykernel' en el entorno de Python. comando \n",
      "\u001b[1;31m: 'c:/Users/jmart/AppData/Local/Microsoft/WindowsApps/python3.10.exe -m pip install ipykernel -U --user --force-reinstall'"
     ]
    }
   ],
   "source": [
    "variables = ['gender', 'SeniorCitizen']"
   ]
  },
  {
   "cell_type": "code",
   "execution_count": null,
   "id": "adb4aea2-5111-4b3b-a6d1-a953b692d02b",
   "metadata": {},
   "outputs": [
    {
     "ename": "",
     "evalue": "",
     "output_type": "error",
     "traceback": [
      "\u001b[1;31mLa ejecución de celdas con 'Python 3.10.6 64-bit (windows store)' requieren el paquete ipykernel.\n",
      "\u001b[1;31mEjecute el siguiente comando para instalar 'ipykernel' en el entorno de Python. comando \n",
      "\u001b[1;31m: 'c:/Users/jmart/AppData/Local/Microsoft/WindowsApps/python3.10.exe -m pip install ipykernel -U --user --force-reinstall'"
     ]
    }
   ],
   "source": [
    "df.groupby(['gender', 'Churn'])[['SeniorCitizen']].count()"
   ]
  },
  {
   "cell_type": "code",
   "execution_count": null,
   "id": "6d68eae8-2867-4ae6-b74d-751145be8c1e",
   "metadata": {},
   "outputs": [
    {
     "ename": "",
     "evalue": "",
     "output_type": "error",
     "traceback": [
      "\u001b[1;31mLa ejecución de celdas con 'Python 3.10.6 64-bit (windows store)' requieren el paquete ipykernel.\n",
      "\u001b[1;31mEjecute el siguiente comando para instalar 'ipykernel' en el entorno de Python. comando \n",
      "\u001b[1;31m: 'c:/Users/jmart/AppData/Local/Microsoft/WindowsApps/python3.10.exe -m pip install ipykernel -U --user --force-reinstall'"
     ]
    }
   ],
   "source": [
    "temp_df = pd.DataFrame(df['gender'].value_counts() / len(df))"
   ]
  },
  {
   "cell_type": "code",
   "execution_count": null,
   "id": "2e7bc3d0-1f10-4f7e-a6c8-a78d242bef48",
   "metadata": {},
   "outputs": [
    {
     "ename": "",
     "evalue": "",
     "output_type": "error",
     "traceback": [
      "\u001b[1;31mLa ejecución de celdas con 'Python 3.10.6 64-bit (windows store)' requieren el paquete ipykernel.\n",
      "\u001b[1;31mEjecute el siguiente comando para instalar 'ipykernel' en el entorno de Python. comando \n",
      "\u001b[1;31m: 'c:/Users/jmart/AppData/Local/Microsoft/WindowsApps/python3.10.exe -m pip install ipykernel -U --user --force-reinstall'"
     ]
    }
   ],
   "source": [
    "temp_df = df.groupby(['gender', 'Churn'])[['customerID']].count()\n",
    "# temp_df['%'] = temp_df['customerID'].apply(lambda x: round(x/temp_df['customerID'].sum()*100, 2))"
   ]
  },
  {
   "cell_type": "code",
   "execution_count": null,
   "id": "5b7afd53-87b9-47bb-b52b-1eadb986c651",
   "metadata": {},
   "outputs": [
    {
     "ename": "",
     "evalue": "",
     "output_type": "error",
     "traceback": [
      "\u001b[1;31mLa ejecución de celdas con 'Python 3.10.6 64-bit (windows store)' requieren el paquete ipykernel.\n",
      "\u001b[1;31mEjecute el siguiente comando para instalar 'ipykernel' en el entorno de Python. comando \n",
      "\u001b[1;31m: 'c:/Users/jmart/AppData/Local/Microsoft/WindowsApps/python3.10.exe -m pip install ipykernel -U --user --force-reinstall'"
     ]
    }
   ],
   "source": [
    "pd.crosstab(index=df['gender'], columns=df['Churn'], normalize='index')"
   ]
  },
  {
   "cell_type": "code",
   "execution_count": null,
   "id": "652a742a-25ec-4c92-91a6-20c9b0de6ca9",
   "metadata": {},
   "outputs": [],
   "source": [
    "df"
   ]
  },
  {
   "cell_type": "code",
   "execution_count": null,
   "id": "22753531-09b2-49ab-88d7-1bc96cc177f2",
   "metadata": {},
   "outputs": [],
   "source": [
    "variables = ['gender', 'SeniorCitizen', 'MultipleLines', 'InternetService']"
   ]
  },
  {
   "cell_type": "code",
   "execution_count": null,
   "id": "b2e149fb-a725-4301-830e-4ebc0e99f1ee",
   "metadata": {},
   "outputs": [],
   "source": [
    "def addlabels(x,y):\n",
    "    for i in range(len(x)):\n",
    "        plt.text(i, y[i]//2, y[i], ha = 'center')"
   ]
  },
  {
   "cell_type": "code",
   "execution_count": null,
   "id": "d97ea748-73bf-4207-9191-1d533c406843",
   "metadata": {},
   "outputs": [],
   "source": [
    "for i in variables:\n",
    "\n",
    "    pd.crosstab(index=df[f'{i}'], columns=df['Churn'], normalize='index').plot(kind='bar', stacked=True)\n",
    "    plt.title(f'Churn by {i}')\n",
    "\n",
    "    # addlabels(x, y)\n",
    "    plt.legend(loc='upper right')\n",
    "\n",
    "    plt.show()\n",
    "    print('\\n')"
   ]
  }
 ],
 "metadata": {
  "kernelspec": {
   "display_name": "Python 3.10.4 ('StarterPack')",
   "language": "python",
   "name": "python3"
  },
  "language_info": {
   "codemirror_mode": {
    "name": "ipython",
    "version": 3
   },
   "file_extension": ".py",
   "mimetype": "text/x-python",
   "name": "python",
   "nbconvert_exporter": "python",
   "pygments_lexer": "ipython3",
   "version": "3.10.4"
  },
  "vscode": {
   "interpreter": {
    "hash": "6a789dfa835230ebb7620d225cd129b0e10e9ac8573eae947b38c72213cfe3dd"
   }
  }
 },
 "nbformat": 4,
 "nbformat_minor": 5
}
